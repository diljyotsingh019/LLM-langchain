{
 "cells": [
  {
   "cell_type": "code",
   "execution_count": 7,
   "metadata": {},
   "outputs": [],
   "source": [
    "from datasets import load_dataset\n",
    "from openai import OpenAI\n",
    "from pinecone import Pinecone\n",
    "import os\n",
    "from langchain_core.prompts import PromptTemplate\n",
    "from langchain_community.llms import HuggingFaceHub\n",
    "from langchain.chains import LLMChain"
   ]
  },
  {
   "cell_type": "code",
   "execution_count": 5,
   "metadata": {},
   "outputs": [],
   "source": [
    "os.environ[\"OPENAI_API_KEY\"] = \"\"\n",
    "pc = Pinecone(api_key = \"\")\n",
    "os.environ[\"HUGGINGFACEHUB_API_TOKEN\"] = \"\""
   ]
  },
  {
   "cell_type": "code",
   "execution_count": 13,
   "metadata": {},
   "outputs": [],
   "source": [
    "flan_t5 = HuggingFaceHub(repo_id= \"google/flan-t5-base\", \n",
    "                         model_kwargs = {\"temperature\": 1e-10})\n",
    "\n",
    "template = \"\"\"Question: {question} \\n\\n\n",
    "\n",
    "Answer: \"\"\"\n",
    "\n",
    "prompt = PromptTemplate(template=template, input_variables=[\"question\"])\n",
    "\n",
    "llm_chain = LLMChain(prompt=prompt, llm = flan_t5)"
   ]
  },
  {
   "cell_type": "code",
   "execution_count": 21,
   "metadata": {},
   "outputs": [
    {
     "data": {
      "text/plain": [
       "{'question': 'How many bits are there in a Mega Byte?', 'text': '256'}"
      ]
     },
     "execution_count": 21,
     "metadata": {},
     "output_type": "execute_result"
    }
   ],
   "source": [
    "llm_chain.invoke(\"How many bits are there in a Mega Byte?\")"
   ]
  },
  {
   "cell_type": "code",
   "execution_count": 20,
   "metadata": {},
   "outputs": [
    {
     "data": {
      "text/plain": [
       "'256'"
      ]
     },
     "execution_count": 20,
     "metadata": {},
     "output_type": "execute_result"
    }
   ],
   "source": [
    "llm_chain.run(\"How many bits are there in a Mega Byte?\")"
   ]
  },
  {
   "cell_type": "code",
   "execution_count": 22,
   "metadata": {},
   "outputs": [
    {
     "data": {
      "text/plain": [
       "'san francisco 49ers'"
      ]
     },
     "execution_count": 22,
     "metadata": {},
     "output_type": "execute_result"
    }
   ],
   "source": [
    "question = \"Which NFL team won the Super Bowl in the 2010 season\"\n",
    "llm_chain.run(question)"
   ]
  },
  {
   "cell_type": "code",
   "execution_count": 24,
   "metadata": {},
   "outputs": [],
   "source": [
    "qs = [\n",
    "    {\"question\": \"Which NFL team won the Super Bowl in the 2010 season\"},\n",
    "    {\"question\": \"If I am 6ft 3 inches, how tall am I in cms?\"},\n",
    "    {\"question\": \"Who was the 12th person on the moon?\"},\n",
    "    {\"question\": \"Who wrote the Indian constitution?\"}\n",
    "]\n",
    "\n",
    "res = llm_chain.generate(qs)"
   ]
  },
  {
   "cell_type": "code",
   "execution_count": 25,
   "metadata": {},
   "outputs": [
    {
     "data": {
      "text/plain": [
       "LLMResult(generations=[[Generation(text='san francisco 49ers')], [Generation(text='84 cm')], [Generation(text='samuel harris')], [Generation(text='samuel harvard')]], llm_output=None, run=[RunInfo(run_id=UUID('8e3a97c2-fc59-4530-8380-3e622d93519f')), RunInfo(run_id=UUID('dac03c89-ff2d-4e1c-9056-3613a0d42b1c')), RunInfo(run_id=UUID('6df912db-178f-43f1-acae-16d2d761b5e7')), RunInfo(run_id=UUID('f72fc0fe-5267-4c09-9b67-7b652fa9cf09'))])"
      ]
     },
     "execution_count": 25,
     "metadata": {},
     "output_type": "execute_result"
    }
   ],
   "source": [
    "res"
   ]
  },
  {
   "cell_type": "code",
   "execution_count": 26,
   "metadata": {},
   "outputs": [],
   "source": [
    "multi_template = \"\"\" Answer the following questions one at a time.\n",
    "Questions: {questions}\\n\n",
    "Answer: \n",
    "\"\"\"\n",
    "\n",
    "long_prompt = PromptTemplate(template = multi_template, input_variables= [\"questions\"])\n",
    "\n",
    "llm_chain = LLMChain(prompt= long_prompt, llm = flan_t5)\n",
    "\n",
    "questions = (\"Which NFL team won the Super Bowl in the 2010 season\"+\n",
    "             \"If I am 6ft 3 inches, how tall am I in cms?\"+\n",
    "             \"Who was the 12th person on the moon?\"+\n",
    "             \"Who wrote the Indian constitution?\")\n",
    "\n",
    "res = llm_chain.run(questions)"
   ]
  },
  {
   "cell_type": "code",
   "execution_count": 27,
   "metadata": {},
   "outputs": [
    {
     "data": {
      "text/plain": [
       "'Indian independence'"
      ]
     },
     "execution_count": 27,
     "metadata": {},
     "output_type": "execute_result"
    }
   ],
   "source": [
    "res"
   ]
  },
  {
   "cell_type": "code",
   "execution_count": 35,
   "metadata": {},
   "outputs": [
    {
     "data": {
      "text/plain": [
       "'1. The Green Bay Packers won the Super Bowl in the 2010 season.\\n2. If you are 6ft 3 inches tall, you are approximately 190.5 cm tall.\\n3. The 12th person on the moon was Eugene Cernan.\\n4. The Indian constitution was written by a committee chaired by Dr. B.R. Ambedkar.'"
      ]
     },
     "execution_count": 35,
     "metadata": {},
     "output_type": "execute_result"
    }
   ],
   "source": [
    "from langchain_openai import ChatOpenAI\n",
    "llm = ChatOpenAI()\n",
    "llm_chain = LLMChain(prompt = long_prompt, llm = llm)\n",
    "res = llm_chain.run(questions)\n",
    "res"
   ]
  },
  {
   "cell_type": "code",
   "execution_count": 36,
   "metadata": {},
   "outputs": [
    {
     "name": "stdout",
     "output_type": "stream",
     "text": [
      "1. The Green Bay Packers won the Super Bowl in the 2010 season.\n",
      "2. If you are 6ft 3 inches tall, you are approximately 190.5 cm tall.\n",
      "3. The 12th person on the moon was Eugene Cernan.\n",
      "4. The Indian constitution was written by a committee chaired by Dr. B.R. Ambedkar.\n"
     ]
    }
   ],
   "source": [
    "print(res)"
   ]
  },
  {
   "cell_type": "code",
   "execution_count": null,
   "metadata": {},
   "outputs": [],
   "source": []
  }
 ],
 "metadata": {
  "kernelspec": {
   "display_name": "llm",
   "language": "python",
   "name": "python3"
  },
  "language_info": {
   "codemirror_mode": {
    "name": "ipython",
    "version": 3
   },
   "file_extension": ".py",
   "mimetype": "text/x-python",
   "name": "python",
   "nbconvert_exporter": "python",
   "pygments_lexer": "ipython3",
   "version": "3.10.11"
  }
 },
 "nbformat": 4,
 "nbformat_minor": 2
}
