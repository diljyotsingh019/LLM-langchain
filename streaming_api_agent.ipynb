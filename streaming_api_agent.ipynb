{
 "cells": [
  {
   "cell_type": "code",
   "execution_count": 3,
   "metadata": {},
   "outputs": [],
   "source": [
    "from langchain_openai import OpenAI, ChatOpenAI\n",
    "import os\n",
    "from datasets import load_dataset\n",
    "from pinecone import Pinecone\n",
    "from tqdm.auto import tqdm\n",
    "from langchain.chains import LLMMathChain\n",
    "from langchain.agents import Tool, initialize_agent\n",
    "from langchain.callbacks import StreamingStdOutCallbackHandler\n",
    "from warnings import filterwarnings\n",
    "\n",
    "filterwarnings(\"ignore\")\n",
    "os.environ[\"OPENAI_API_KEY\"] = \"\""
   ]
  },
  {
   "cell_type": "markdown",
   "metadata": {},
   "source": [
    "## Important Note: Not All LLMs support streaming"
   ]
  },
  {
   "cell_type": "code",
   "execution_count": 4,
   "metadata": {},
   "outputs": [],
   "source": [
    "llm = ChatOpenAI(temperature = 0, model = \"gpt-3.5-turbo\",\n",
    "                 streaming = True,\n",
    "                 callbacks = [StreamingStdOutCallbackHandler()])"
   ]
  },
  {
   "cell_type": "code",
   "execution_count": 5,
   "metadata": {},
   "outputs": [
    {
     "name": "stdout",
     "output_type": "stream",
     "text": [
      "Hello! I'm just a computer program, so I don't have feelings, but I'm here and ready to help you with anything you need. How can I assist you today?"
     ]
    },
    {
     "data": {
      "text/plain": [
       "AIMessage(content=\"Hello! I'm just a computer program, so I don't have feelings, but I'm here and ready to help you with anything you need. How can I assist you today?\")"
      ]
     },
     "execution_count": 5,
     "metadata": {},
     "output_type": "execute_result"
    }
   ],
   "source": [
    "llm.invoke(\"hi, how are you?\")"
   ]
  },
  {
   "cell_type": "code",
   "execution_count": 8,
   "metadata": {},
   "outputs": [
    {
     "name": "stdout",
     "output_type": "stream",
     "text": [
      "Once upon a time, in a small village nestled in the rolling hills of the countryside, there lived a young girl named Elara. Elara was known throughout the village for her kindness and compassion towards others. She spent her days helping the elderly, caring for the sick, and tending to the animals in need.\n",
      "\n",
      "One day, as Elara was walking through the forest on the outskirts of the village, she stumbled upon a wounded deer. The poor creature had been caught in a hunter's trap and was in desperate need of help. Without hesitation, Elara knelt down beside the deer and gently freed it from the trap. She then tended to its wounds, using herbs and poultices to ease its pain.\n",
      "\n",
      "As the days passed, Elara continued to care for the deer, feeding it and nursing it back to health. The two formed a deep bond, and the deer began to follow Elara wherever she went. The villagers marveled at the sight of the girl and the deer walking side by side, and many believed that Elara possessed a special gift for healing.\n",
      "\n",
      "One evening, a terrible storm swept through the village, causing widespread destruction and flooding. The villagers were in a state of panic, unsure of how to rebuild their homes and farms. Elara knew that she had to do something to help her community in their time of need.\n",
      "\n",
      "With the deer by her side, Elara set out to gather supplies and resources to aid in the village's recovery. She worked tirelessly, organizing teams of villagers to repair homes, clear debris, and plant new crops. Her selfless actions inspired others to join in the effort, and soon the village began to rebuild stronger and more resilient than before.\n",
      "\n",
      "As the days turned into weeks, the village flourished once again, thanks to Elara's leadership and the support of her loyal companion, the deer. The villagers came to see Elara as a hero, a beacon of hope in their darkest hour.\n",
      "\n",
      "And so, Elara and the deer continued to roam the countryside, spreading kindness and compassion wherever they went. Their story became legend, passed down through generations as a reminder of the power of love and selflessness in times of need. And though Elara eventually grew old and passed away, her spirit lived on in the hearts of all who knew her, forever remembered as the girl who healed not only the wounded deer but also the souls of an entire village."
     ]
    },
    {
     "data": {
      "text/plain": [
       "AIMessage(content=\"Once upon a time, in a small village nestled in the rolling hills of the countryside, there lived a young girl named Elara. Elara was known throughout the village for her kindness and compassion towards others. She spent her days helping the elderly, caring for the sick, and tending to the animals in need.\\n\\nOne day, as Elara was walking through the forest on the outskirts of the village, she stumbled upon a wounded deer. The poor creature had been caught in a hunter's trap and was in desperate need of help. Without hesitation, Elara knelt down beside the deer and gently freed it from the trap. She then tended to its wounds, using herbs and poultices to ease its pain.\\n\\nAs the days passed, Elara continued to care for the deer, feeding it and nursing it back to health. The two formed a deep bond, and the deer began to follow Elara wherever she went. The villagers marveled at the sight of the girl and the deer walking side by side, and many believed that Elara possessed a special gift for healing.\\n\\nOne evening, a terrible storm swept through the village, causing widespread destruction and flooding. The villagers were in a state of panic, unsure of how to rebuild their homes and farms. Elara knew that she had to do something to help her community in their time of need.\\n\\nWith the deer by her side, Elara set out to gather supplies and resources to aid in the village's recovery. She worked tirelessly, organizing teams of villagers to repair homes, clear debris, and plant new crops. Her selfless actions inspired others to join in the effort, and soon the village began to rebuild stronger and more resilient than before.\\n\\nAs the days turned into weeks, the village flourished once again, thanks to Elara's leadership and the support of her loyal companion, the deer. The villagers came to see Elara as a hero, a beacon of hope in their darkest hour.\\n\\nAnd so, Elara and the deer continued to roam the countryside, spreading kindness and compassion wherever they went. Their story became legend, passed down through generations as a reminder of the power of love and selflessness in times of need. And though Elara eventually grew old and passed away, her spirit lived on in the hearts of all who knew her, forever remembered as the girl who healed not only the wounded deer but also the souls of an entire village.\")"
      ]
     },
     "execution_count": 8,
     "metadata": {},
     "output_type": "execute_result"
    }
   ],
   "source": [
    "from langchain.schema import HumanMessage\n",
    "\n",
    "messages = [HumanMessage(content = \"Tell me a long story\")]\n",
    "llm.invoke(messages)"
   ]
  },
  {
   "cell_type": "code",
   "execution_count": 14,
   "metadata": {},
   "outputs": [],
   "source": [
    "from langchain.memory import ConversationBufferWindowMemory\n",
    "from langchain.agents import load_tools, AgentType, initialize_agent\n",
    "memory = ConversationBufferWindowMemory(memory_key = \"chat_history\",\n",
    "                                        k = 5,\n",
    "                                        return_messages= True,\n",
    "                                        output_key= \"output\")\n",
    "\n",
    "tools = load_tools([\"llm-math\"], llm = llm)\n",
    "\n",
    "agent = initialize_agent(agent = AgentType.CHAT_CONVERSATIONAL_REACT_DESCRIPTION, \n",
    "                         tools = tools,\n",
    "                         llm = llm,\n",
    "                         memory = memory,\n",
    "                         verbose = True,\n",
    "                         max_iterations = 3,\n",
    "                         early_stopping_method = \"generate\",\n",
    "                         return_intermediate_steps = False)"
   ]
  },
  {
   "cell_type": "code",
   "execution_count": 15,
   "metadata": {},
   "outputs": [
    {
     "name": "stdout",
     "output_type": "stream",
     "text": [
      "\n",
      "\n",
      "\u001b[1m> Entering new AgentExecutor chain...\u001b[0m\n",
      "```json\n",
      "{\n",
      "    \"action\": \"Final Answer\",\n",
      "    \"action_input\": \"I'm just a computer program, so I don't have feelings, but I'm here and ready to assist you. How can I help you today?\"\n",
      "}\n",
      "```\u001b[32;1m\u001b[1;3m```json\n",
      "{\n",
      "    \"action\": \"Final Answer\",\n",
      "    \"action_input\": \"I'm just a computer program, so I don't have feelings, but I'm here and ready to assist you. How can I help you today?\"\n",
      "}\n",
      "```\u001b[0m\n",
      "\n",
      "\u001b[1m> Finished chain.\u001b[0m\n"
     ]
    },
    {
     "data": {
      "text/plain": [
       "{'input': 'Hi, How are you?',\n",
       " 'chat_history': [],\n",
       " 'output': \"I'm just a computer program, so I don't have feelings, but I'm here and ready to assist you. How can I help you today?\"}"
      ]
     },
     "execution_count": 15,
     "metadata": {},
     "output_type": "execute_result"
    }
   ],
   "source": [
    "agent.invoke(\"Hi, How are you?\")"
   ]
  },
  {
   "cell_type": "code",
   "execution_count": 16,
   "metadata": {},
   "outputs": [
    {
     "name": "stdout",
     "output_type": "stream",
     "text": [
      "\n",
      "\n",
      "\u001b[1m> Entering new AgentExecutor chain...\u001b[0m\n",
      "```json\n",
      "{\n",
      "    \"action\": \"Calculator\",\n",
      "    \"action_input\": \"square root of 459\"\n",
      "}\n",
      "```\u001b[32;1m\u001b[1;3m```json\n",
      "{\n",
      "    \"action\": \"Calculator\",\n",
      "    \"action_input\": \"square root of 459\"\n",
      "}\n",
      "```\u001b[0m```text\n",
      "459**0.5\n",
      "```\n",
      "...numexpr.evaluate(\"459**0.5\")...\n",
      "\n",
      "Observation: \u001b[36;1m\u001b[1;3mAnswer: 21.42428528562855\u001b[0m\n",
      "Thought:```json\n",
      "{\n",
      "    \"action\": \"Final Answer\",\n",
      "    \"action_input\": \"21.42428528562855\"\n",
      "}\n",
      "```\u001b[32;1m\u001b[1;3m```json\n",
      "{\n",
      "    \"action\": \"Final Answer\",\n",
      "    \"action_input\": \"21.42428528562855\"\n",
      "}\n",
      "```\u001b[0m\n",
      "\n",
      "\u001b[1m> Finished chain.\u001b[0m\n"
     ]
    },
    {
     "data": {
      "text/plain": [
       "{'input': 'Can you tell me the square root of 459',\n",
       " 'chat_history': [HumanMessage(content='Hi, How are you?'),\n",
       "  AIMessage(content=\"I'm just a computer program, so I don't have feelings, but I'm here and ready to assist you. How can I help you today?\")],\n",
       " 'output': '21.42428528562855'}"
      ]
     },
     "execution_count": 16,
     "metadata": {},
     "output_type": "execute_result"
    }
   ],
   "source": [
    "agent.invoke(\"Can you tell me the square root of 459\")"
   ]
  },
  {
   "cell_type": "code",
   "execution_count": 17,
   "metadata": {},
   "outputs": [],
   "source": [
    "from langchain.callbacks.streaming_stdout_final_only import FinalStreamingStdOutCallbackHandler"
   ]
  },
  {
   "cell_type": "code",
   "execution_count": 18,
   "metadata": {},
   "outputs": [],
   "source": [
    "agent.agent.llm_chain.llm.callbacks = [FinalStreamingStdOutCallbackHandler()]"
   ]
  },
  {
   "cell_type": "code",
   "execution_count": 19,
   "metadata": {},
   "outputs": [
    {
     "name": "stdout",
     "output_type": "stream",
     "text": [
      "\n",
      "\n",
      "\u001b[1m> Entering new AgentExecutor chain...\u001b[0m\n",
      "\u001b[32;1m\u001b[1;3m```json\n",
      "{\n",
      "    \"action\": \"Calculator\",\n",
      "    \"action_input\": \"square root of 5457\"\n",
      "}\n",
      "```\u001b[0m\n",
      "Observation: \u001b[36;1m\u001b[1;3mAnswer: 73.87151006985034\u001b[0m\n",
      "Thought:\u001b[32;1m\u001b[1;3m```json\n",
      "{\n",
      "    \"action\": \"Final Answer\",\n",
      "    \"action_input\": \"73.87151006985034\"\n",
      "}\n",
      "```\u001b[0m\n",
      "\n",
      "\u001b[1m> Finished chain.\u001b[0m\n"
     ]
    },
    {
     "data": {
      "text/plain": [
       "{'input': 'What is the square root of 5457?',\n",
       " 'chat_history': [HumanMessage(content='Hi, How are you?'),\n",
       "  AIMessage(content=\"I'm just a computer program, so I don't have feelings, but I'm here and ready to assist you. How can I help you today?\"),\n",
       "  HumanMessage(content='Can you tell me the square root of 459'),\n",
       "  AIMessage(content='21.42428528562855')],\n",
       " 'output': '73.87151006985034'}"
      ]
     },
     "execution_count": 19,
     "metadata": {},
     "output_type": "execute_result"
    }
   ],
   "source": [
    "agent.invoke(\"What is the square root of 5457?\")"
   ]
  },
  {
   "cell_type": "code",
   "execution_count": 20,
   "metadata": {},
   "outputs": [],
   "source": [
    "agent.agent.llm_chain.llm.callbacks = [FinalStreamingStdOutCallbackHandler(\n",
    "    answer_prefix_tokens = [\"Final\", \"Answer\"]\n",
    ")]"
   ]
  },
  {
   "cell_type": "code",
   "execution_count": 21,
   "metadata": {},
   "outputs": [
    {
     "name": "stdout",
     "output_type": "stream",
     "text": [
      "\n",
      "\n",
      "\u001b[1m> Entering new AgentExecutor chain...\u001b[0m\n",
      "\u001b[32;1m\u001b[1;3m```json\n",
      "{\n",
      "    \"action\": \"Calculator\",\n",
      "    \"action_input\": \"square root of 5457\"\n",
      "}\n",
      "```\u001b[0m\n",
      "Observation: \u001b[36;1m\u001b[1;3mAnswer: 73.87151006985034\u001b[0m\n",
      "Thought:\",\n",
      "    \"action_input\": \"73.87151006985034\"\n",
      "}\n",
      "```\u001b[32;1m\u001b[1;3m```json\n",
      "{\n",
      "    \"action\": \"Final Answer\",\n",
      "    \"action_input\": \"73.87151006985034\"\n",
      "}\n",
      "```\u001b[0m\n",
      "\n",
      "\u001b[1m> Finished chain.\u001b[0m\n"
     ]
    },
    {
     "data": {
      "text/plain": [
       "{'input': 'What is the square root of 5457?',\n",
       " 'chat_history': [HumanMessage(content='Hi, How are you?'),\n",
       "  AIMessage(content=\"I'm just a computer program, so I don't have feelings, but I'm here and ready to assist you. How can I help you today?\"),\n",
       "  HumanMessage(content='Can you tell me the square root of 459'),\n",
       "  AIMessage(content='21.42428528562855'),\n",
       "  HumanMessage(content='What is the square root of 5457?'),\n",
       "  AIMessage(content='73.87151006985034')],\n",
       " 'output': '73.87151006985034'}"
      ]
     },
     "execution_count": 21,
     "metadata": {},
     "output_type": "execute_result"
    }
   ],
   "source": [
    "agent.invoke(\"What is the square root of 5457?\")"
   ]
  },
  {
   "cell_type": "code",
   "execution_count": 22,
   "metadata": {},
   "outputs": [],
   "source": [
    "import sys\n",
    "\n",
    "class CallbackHandler(StreamingStdOutCallbackHandler):\n",
    "    def __init__(self):\n",
    "        self.content: str = \"\"\n",
    "        self.final_answer: bool = False\n",
    "\n",
    "    def on_llm_new_token(self, token: str, **kwargs: any) -> None:\n",
    "        self.content += token\n",
    "        if \"Final Answer\" in self.content:\n",
    "            self.final_answer = True\n",
    "            self.content = \"\"\n",
    "        \n",
    "        if self.final_answer:\n",
    "            if '\"action_input\": \"' in self.content:\n",
    "                if token not in [\"}\"]:\n",
    "                    sys.stdout.write(token)\n",
    "                    sys.stdout.flush()"
   ]
  },
  {
   "cell_type": "code",
   "execution_count": 23,
   "metadata": {},
   "outputs": [],
   "source": [
    "agent.agent.llm_chain.llm.callbacks = [CallbackHandler()]"
   ]
  },
  {
   "cell_type": "code",
   "execution_count": 24,
   "metadata": {},
   "outputs": [
    {
     "name": "stdout",
     "output_type": "stream",
     "text": [
      "\n",
      "\n",
      "\u001b[1m> Entering new AgentExecutor chain...\u001b[0m\n",
      "\u001b[32;1m\u001b[1;3m```json\n",
      "{\n",
      "    \"action\": \"Calculator\",\n",
      "    \"action_input\": \"cube root of 15472\"\n",
      "}\n",
      "```\u001b[0m\n",
      "Observation: \u001b[36;1m\u001b[1;3mAnswer: 24.91813219917046\u001b[0m\n",
      "Thought: \"73.87151006985034\"\n",
      "}\n",
      "```\u001b[32;1m\u001b[1;3m```json\n",
      "{\n",
      "    \"action\": \"Final Answer\",\n",
      "    \"action_input\": \"73.87151006985034\"\n",
      "}\n",
      "```\u001b[0m\n",
      "\n",
      "\u001b[1m> Finished chain.\u001b[0m\n"
     ]
    },
    {
     "data": {
      "text/plain": [
       "{'input': 'What is the cube root of 15472?',\n",
       " 'chat_history': [HumanMessage(content='Hi, How are you?'),\n",
       "  AIMessage(content=\"I'm just a computer program, so I don't have feelings, but I'm here and ready to assist you. How can I help you today?\"),\n",
       "  HumanMessage(content='Can you tell me the square root of 459'),\n",
       "  AIMessage(content='21.42428528562855'),\n",
       "  HumanMessage(content='What is the square root of 5457?'),\n",
       "  AIMessage(content='73.87151006985034'),\n",
       "  HumanMessage(content='What is the square root of 5457?'),\n",
       "  AIMessage(content='73.87151006985034')],\n",
       " 'output': '73.87151006985034'}"
      ]
     },
     "execution_count": 24,
     "metadata": {},
     "output_type": "execute_result"
    }
   ],
   "source": [
    "agent.invoke(\"What is the cube root of 15472?\")"
   ]
  },
  {
   "cell_type": "code",
   "execution_count": 26,
   "metadata": {},
   "outputs": [
    {
     "name": "stdout",
     "output_type": "stream",
     "text": [
      "\n",
      "\n",
      "\u001b[1m> Entering new AgentExecutor chain...\u001b[0m\n",
      "```json\n",
      "{\n",
      "    \"action\": \"Final \"I'm happy to tell you a story! Once upon a time, in a faraway land, there lived a wise old wizard...\"\n",
      "}\n",
      "```\u001b[32;1m\u001b[1;3m```json\n",
      "{\n",
      "    \"action\": \"Final Answer\",\n",
      "    \"action_input\": \"I'm happy to tell you a story! Once upon a time, in a faraway land, there lived a wise old wizard...\"\n",
      "}\n",
      "```\u001b[0m\n",
      "\n",
      "\u001b[1m> Finished chain.\u001b[0m\n"
     ]
    },
    {
     "data": {
      "text/plain": [
       "{'input': 'Tell me a long story',\n",
       " 'chat_history': [HumanMessage(content='Can you tell me the square root of 459'),\n",
       "  AIMessage(content='21.42428528562855'),\n",
       "  HumanMessage(content='What is the square root of 5457?'),\n",
       "  AIMessage(content='73.87151006985034'),\n",
       "  HumanMessage(content='What is the square root of 5457?'),\n",
       "  AIMessage(content='73.87151006985034'),\n",
       "  HumanMessage(content='What is the cube root of 15472?'),\n",
       "  AIMessage(content='73.87151006985034'),\n",
       "  HumanMessage(content='Tell me a long story?'),\n",
       "  AIMessage(content=\"I'm happy to tell you a story! Once upon a time, in a faraway land, there lived a wise old wizard...\")],\n",
       " 'output': \"I'm happy to tell you a story! Once upon a time, in a faraway land, there lived a wise old wizard...\"}"
      ]
     },
     "execution_count": 26,
     "metadata": {},
     "output_type": "execute_result"
    }
   ],
   "source": [
    "agent.invoke(\"Tell me a long story\")"
   ]
  },
  {
   "cell_type": "markdown",
   "metadata": {},
   "source": [
    "Refer demo_api.py for Fast API implementation"
   ]
  },
  {
   "cell_type": "markdown",
   "metadata": {},
   "source": [
    "API Running on localhost fastAPI - \n",
    "Command used on CMD--> uvicorn demo_api:app --reload"
   ]
  },
  {
   "cell_type": "code",
   "execution_count": 34,
   "metadata": {},
   "outputs": [
    {
     "data": {
      "text/plain": [
       "{'Status': 'OK'}"
      ]
     },
     "execution_count": 34,
     "metadata": {},
     "output_type": "execute_result"
    }
   ],
   "source": [
    "import requests \n",
    "\n",
    "res = requests.get(\"http://localhost:8000/health\")\n",
    "res.json()"
   ]
  },
  {
   "cell_type": "code",
   "execution_count": 35,
   "metadata": {},
   "outputs": [
    {
     "data": {
      "text/plain": [
       "<Response [200]>"
      ]
     },
     "execution_count": 35,
     "metadata": {},
     "output_type": "execute_result"
    }
   ],
   "source": [
    "res = requests.get(\"http://localhost:8000/chat\",\n",
    "                   json = {\"text\": \"hello there!\"})\n",
    "res"
   ]
  },
  {
   "cell_type": "code",
   "execution_count": 36,
   "metadata": {},
   "outputs": [
    {
     "data": {
      "text/plain": [
       "{'input': 'hello there!',\n",
       " 'chat_history': [],\n",
       " 'output': 'Hello! How can I assist you today?'}"
      ]
     },
     "execution_count": 36,
     "metadata": {},
     "output_type": "execute_result"
    }
   ],
   "source": [
    "res.json()"
   ]
  },
  {
   "cell_type": "code",
   "execution_count": 38,
   "metadata": {},
   "outputs": [],
   "source": [
    "def get_stream(query: str):\n",
    "    s = requests.Session()\n",
    "    with s.get(\n",
    "        \"http://localhost:8000/chat\",\n",
    "        stream = True,\n",
    "        json = {\"text\": query}\n",
    "    ) as r:\n",
    "        for line in r.iter_content():\n",
    "            print(line.decode(\"utf-8\"), end = \"\")"
   ]
  },
  {
   "cell_type": "code",
   "execution_count": 40,
   "metadata": {},
   "outputs": [
    {
     "name": "stdout",
     "output_type": "stream",
     "text": [
      "```json\n",
      "{\n",
      "    \"action\": \"Final Answer\",\n",
      "    \"action_input\": \"Once upon a time, in a faraway land, there was a brave knight named Sir Lancelot. He embarked on a quest to rescue a princess from the clutches of an evil dragon. Along the way, he faced many challenges and obstacles, but with courage and determination, he overcame them all. In the end, Sir Lancelot defeated the dragon, saved the princess, and brought peace to the kingdom. And they all lived happily ever after.\"\n",
      "}\n",
      "```"
     ]
    }
   ],
   "source": [
    "get_stream(\"Tell me a long story\")"
   ]
  },
  {
   "cell_type": "code",
   "execution_count": null,
   "metadata": {},
   "outputs": [],
   "source": []
  }
 ],
 "metadata": {
  "kernelspec": {
   "display_name": "llm",
   "language": "python",
   "name": "python3"
  },
  "language_info": {
   "codemirror_mode": {
    "name": "ipython",
    "version": 3
   },
   "file_extension": ".py",
   "mimetype": "text/x-python",
   "name": "python",
   "nbconvert_exporter": "python",
   "pygments_lexer": "ipython3",
   "version": "3.10.11"
  }
 },
 "nbformat": 4,
 "nbformat_minor": 2
}
